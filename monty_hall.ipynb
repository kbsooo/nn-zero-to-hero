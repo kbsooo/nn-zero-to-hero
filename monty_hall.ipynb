{
 "cells": [
  {
   "cell_type": "markdown",
   "id": "48ccc21f-dd6f-4ecc-ac42-eee69ce08cf6",
   "metadata": {},
   "source": [
    "## 몬티-홀 파이썬으로 실험해보기"
   ]
  },
  {
   "cell_type": "code",
   "execution_count": 5,
   "id": "5b820e6a-b8eb-46e7-95b5-ce3c74a4a5c2",
   "metadata": {},
   "outputs": [],
   "source": [
    "import random\n",
    "import matplotlib.pyplot as plt"
   ]
  },
  {
   "cell_type": "code",
   "execution_count": 6,
   "id": "55d825da-9ac2-4b71-b44e-407c1b8e8b99",
   "metadata": {},
   "outputs": [],
   "source": [
    "def monty_hall(n):\n",
    "    switch_wins = 0  # 문을 바꿔서 이긴 횟수\n",
    "    stay_wins = 0    # 문을 유지해서 이긴 횟수\n",
    "\n",
    "    for _ in range(n):\n",
    "        # 자동차가 있는 문을 무작위로 설정 (0, 1, 2 중 하나)\n",
    "        car = random.randint(0, 2)\n",
    "        # 참가자가 문을 무작위로 선택 (0, 1, 2 중 하나)\n",
    "        choice = random.randint(0, 2)\n",
    "\n",
    "        # 사회자가 염소가 있는 문을 열음\n",
    "        # 참가자가 선택하지 않은 문 중 자동차가 없는 문을 찾기\n",
    "        possible_doors = []  # 빈 리스트를 만들어서 조건에 맞는 문을 추가\n",
    "        for door in range(3):\n",
    "            if door != choice and door != car:\n",
    "                possible_doors.append(door)\n",
    "        \n",
    "        # 사회자가 열 문을 선택\n",
    "        if possible_doors:  # possible_doors가 비어있지 않으면\n",
    "            monty_opens = random.choice(possible_doors)\n",
    "        else:\n",
    "            # 참가자가 자동차를 선택한 경우, 나머지 문 중 하나를 무작위로 열음\n",
    "            remaining_doors = []  # 빈 리스트를 만들어서 조건에 맞는 문을 추가\n",
    "            for door in range(3):\n",
    "                if door != choice:\n",
    "                    remaining_doors.append(door)\n",
    "            monty_opens = random.choice(remaining_doors)\n",
    "\n",
    "        # 문을 바꾸는 경우: 참가자가 선택하지 않았고 사회자가 열지 않은 문을 찾기\n",
    "        switch_choice = None  # 아직 선택된 문이 없음을 표시\n",
    "        for door in range(3):\n",
    "            if door != choice and door != monty_opens:\n",
    "                switch_choice = door\n",
    "                break  # 문을 하나 찾았으면 반복문 종료\n",
    "        \n",
    "        # 문을 바꿔서 이겼는지 확인\n",
    "        if switch_choice == car:\n",
    "            switch_wins += 1\n",
    "\n",
    "        # 문을 유지해서 이겼는지 확인\n",
    "        if choice == car:\n",
    "            stay_wins += 1\n",
    "\n",
    "    return switch_wins, stay_wins"
   ]
  },
  {
   "cell_type": "code",
   "execution_count": 7,
   "id": "d4d2a092-f800-47fe-9fa5-0b255c3ba1a0",
   "metadata": {},
   "outputs": [],
   "source": [
    "n = 100000000  # 1억 번\n",
    "switch_wins, stay_wins = monty_hall(n)"
   ]
  },
  {
   "cell_type": "code",
   "execution_count": 8,
   "id": "6a550961-d690-4cfc-a1a5-ac4dcc3eb05f",
   "metadata": {},
   "outputs": [
    {
     "name": "stdout",
     "output_type": "stream",
     "text": [
      "문을 바꾸는 전략으로 자동차를 얻은 횟수: 66663787\n",
      "문을 유지하는 전략으로 자동차를 얻은 횟수: 33336213\n",
      "문을 바꾸는 전략의 승률: 0.6666\n",
      "문을 유지하는 전략의 승률: 0.3334\n"
     ]
    },
    {
     "data": {
      "image/png": "[encoded data removed]",
      "text/plain": [
       "<Figure size 640x480 with 1 Axes>"
      ]
     },
     "metadata": {},
     "output_type": "display_data"
    }
   ],
   "source": [
    "# 결과 출력\n",
    "print(f\"문을 바꾸는 전략으로 자동차를 얻은 횟수: {switch_wins}\")\n",
    "print(f\"문을 유지하는 전략으로 자동차를 얻은 횟수: {stay_wins}\")\n",
    "print(f\"문을 바꾸는 전략의 승률: {switch_wins / num_trials:.4f}\")\n",
    "print(f\"문을 유지하는 전략의 승률: {stay_wins / num_trials:.4f}\")\n",
    "\n",
    "# 시각화\n",
    "labels = ['Switch', 'Stay']\n",
    "wins = [switch_wins, stay_wins]\n",
    "plt.bar(labels, wins, color=['blue', 'green'])\n",
    "plt.ylabel('Number of Wins')\n",
    "plt.title('Monty Hall Problem Simulation (100M Trials)')\n",
    "plt.show()"
   ]
  },
  {
   "cell_type": "markdown",
   "id": "adb03f1e-5e90-4b5e-b168-28c53cda1579",
   "metadata": {},
   "source": [
    "바꾸는게 유리하다네요~"
   ]
  },
  {
   "cell_type": "markdown",
   "id": "168c98bb-a310-4519-a16c-95f52b4b2f9f",
   "metadata": {},
   "source": [
    "## 베이즈 정리"
   ]
  },
  {
   "cell_type": "markdown",
   "id": "3d18efb9-03fc-4cd1-b561-08685ea6b47d",
   "metadata": {},
   "source": [
    "### 몬티 홀 문제의 설정\n",
    "- 세 개의 문(문1, 문2, 문3)이 있으며, 그 중 하나에 자동차가 있고 나머지 두 개에는 염소가 있음\n",
    "- 참가자가 한 문을 선택함 (ex: 문1)\n",
    "- 사회자는 참가자가 선택하지 않은 문 중 염소가 있는 문을 열어 보여줌 (ex: 문2)\n",
    "- 참가자는 처음 선택한 문을 유지하거나 남은 문 (ex: 문3)로 바꿀 수 있음\n",
    "\n",
    "참가자가 문을 바꾸면 자동차를 얻을 확률이 높아질까?"
   ]
  },
  {
   "cell_type": "markdown",
   "id": "22a9e792-5c4e-400f-9ea0-645df203ea64",
   "metadata": {},
   "source": [
    "### 베이즈 정리의 공식\n",
    "베이즈 정리는 사후 확률을 계산하는 데 사용됨\n",
    "$P(A|B) = \\frac{P(B|A)\\times P(A)}{P(B)}$\n",
    "- $P(A|B)$: 사건 B가 발생했을 때 사건 A가 발생할 확률 (사후 확률)\n",
    "- $P(B|A)$: 사건 A가 발생했을 때 사건 B가 발생활 확률 (우도)\n",
    "- $P(A)$: 사건 A의 사전 확률\n",
    "- $P(B)$: 사건 B의 전체 확률"
   ]
  },
  {
   "cell_type": "markdown",
   "id": "9cefec55-72a6-42ba-81f3-29bc6ba78fe0",
   "metadata": {},
   "source": [
    "### 사건 정의\n",
    "문제를 구체적으로 풀기 위해 가정하면:\n",
    "- 참가자가 **문1**을 선택함\n",
    "- 사회자가 **문2**를 열었고, 그 문 뒤에는 염소가 있었음\n",
    "\n",
    "이제 알고 싶은 것\n",
    "- 사회자가 **문2**를 열었을 때, 자동차가 **문1**에 있을 확률 vs **문3**에 있을 확률"
   ]
  },
  {
   "cell_type": "markdown",
   "id": "b9631988-b029-41aa-ab3f-b342c571c481",
   "metadata": {},
   "source": [
    "### 사건 설정\n",
    "- $A$: 자동차가 문1에 있는 사건\n",
    "- $B$: 사회자가 문2를 여는 사건\n",
    "구하고 싶은 것은 $P(A|B)$, 즉, 사회자가 문2를 열었을 때 자동차가 문1에 있을 확률"
   ]
  },
  {
   "cell_type": "markdown",
   "id": "a879e607-d319-4dce-9df3-362d3a98a28a",
   "metadata": {},
   "source": [
    "### 1. 사전 확률 $P(A)$\n",
    "자동차는 처음에 세 개의 문 중 하나에 무작위에 배치되므로: </br>\n",
    "$P(A) = P(자동차가 문1에 있음) = \\frac{1}{3}$"
   ]
  },
  {
   "cell_type": "markdown",
   "id": "8fb27ef6-4fd3-4cc7-a1b8-bc83fa0be773",
   "metadata": {},
   "source": [
    "### 2. 우도 $P(B|A)$\n",
    "$P(B|A)$는 자동차가 **문1**에 있을 때 사회자가 **문**2를 열 확률\n",
    "- 자동차가 문1에 있으면, 사회자는 참가자가 선택하지 않은 문2와 문3중 하나를 열어야 함 (둘다 염소)\n",
    "- 사회자가 문2와 문3을 열 확률은 각각 절반이므로: $P(B|A) = \\frac{1}{2}$"
   ]
  },
  {
   "cell_type": "markdown",
   "id": "89843deb-e26e-478d-ba43-0f882de83648",
   "metadata": {},
   "source": [
    "### 3. 전체 확률 $P(B)$\n",
    "$P(B)$는 사회자가 문2를 열 확률. 이는 자동차의 위치에 따라 달라지므로, 전체 확률의 법칙을 사용해 계산:\n",
    "$P(B) = P(B|A) \\times P(A) + P(B|자동차가 문2에 있음) \\times P(자동차가 문2에 있음) + P(B|자동차가 문3에 있음) \\times P(자동차가 문3에 있음)$\n",
    "각 경우를 계산해보면\n",
    "\n",
    "1. **자동차가 문1에 있을 때:**\n",
    "- $P(B|A) = \\frac{1}{2}$\n",
    "- $P(A) = \\frac{1}{3}$\n",
    "- $P(A|B) = \\frac{1}{2} \\times \\frac{1}{3} = \\frac{1}{6}$\n",
    "\n",
    "2. **자동차가 문2에 있을 때:**\n",
    "- 자동차가 문2에 있으면, 사회자는 문2를 열 수 없음\n",
    "- 따라서 $P(B|자동차가 문2에 있음) = 0$\n",
    "- $P(자동차가 문2에 있음) = \\frac{1}{3}$\n",
    "- $P(B|자동차가 문2에 있음) \\times P(자동차가 문2에 있음) = 0 \\times \\frac{1}{3} = 0$\n",
    "\n",
    "3. **자동차가 문3에 있을 때:**\n",
    "- 자동차가 문3에 있으면, 참가자는 문1을 선택했으므로 사회자는 문2를 열어야 함 (문2는 염소가 있음)\n",
    "- 따라서 $P(B|자동차가 문3에 있음) = 1$\n",
    "- $P(자동차가 문3에 있음) = \\frac{1}{3}$\n",
    "- $P(B|자동차가 문3에 있음) \\times P(자동차가 문3에 있음) = 1 \\times \\frac{1}{3} = \\frac{1}{3}$\n",
    "\n",
    "이제 전체 확률을 합산하면:\n",
    "$P(B) = \\frac{1}{6} + 0 + \\frac{1}{3} = \\frac{1}{6} + \\frac{2}{6} = \\frac{3}{6} = \\frac{1}{2}$"
   ]
  },
  {
   "cell_type": "markdown",
   "id": "5c47a14e-ce6a-432f-8f77-172bac5a55ba",
   "metadata": {},
   "source": [
    "### 4. 사후 확률 $P(A|B)$ 계산\n",
    "이제 베이즈 정리를 사용해 $P(A|B)$를 구함:\n",
    "$P(A|B) = \\frac{P(B|A)\\times P(A)}{P(B)} = \\frac{(\\frac{1}{2}) \\times (\\frac{1}{3})}{\\frac{1}{2}} = \\frac{\\frac{1}{6}}{\\frac{1}{2}} = \\frac{1}{6} \\times 2 = \\frac{1}{3}$\n",
    "\n",
    "따라서 사회자가 문2를 열었을 때 자동차가 문1에 있을 확률은 $\\frac{1}{3}$"
   ]
  },
  {
   "cell_type": "markdown",
   "id": "6c1f0c33-de3b-493a-bb97-b7c8f308d2e0",
   "metadata": {},
   "source": [
    "### 자동차가 문3에 있을 확률\n",
    "자동차는 문1 또는 문3에만 있을 수 있음 (문2는 염소가 있음) </br>\n",
    "따라서 자동차가 문3에 있을 확률은: </br>\n",
    "$P(자동차가 문3에 있음|B) = 1 - P(A|B) = 1 - \\frac{1}{3} = \\frac{2}{3}$"
   ]
  },
  {
   "cell_type": "markdown",
   "id": "86b96b0c-a946-47c2-ae95-2dab3cc09b3c",
   "metadata": {},
   "source": [
    "### 결론\n",
    "- 참가자가 **문1을 유지**하면 자동차를 얻을 확률: $\\frac{1}{3}$\n",
    "- 참가자가 **문3으로 바꾸면** 자동차를 얻을 확률: $\\frac{1}{3}$"
   ]
  }
 ],
 "metadata": {
  "kernelspec": {
   "display_name": "Python 3 (ipykernel)",
   "language": "python",
   "name": "python3"
  },
  "language_info": {
   "codemirror_mode": {
    "name": "ipython",
    "version": 3
   },
   "file_extension": ".py",
   "mimetype": "text/x-python",
   "name": "python",
   "nbconvert_exporter": "python",
   "pygments_lexer": "ipython3",
   "version": "3.9.21"
  }
 },
 "nbformat": 4,
 "nbformat_minor": 5
}
